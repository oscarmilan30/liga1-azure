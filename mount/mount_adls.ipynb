{
 "cells": [
  {
   "cell_type": "code",
   "execution_count": 0,
   "metadata": {
    "application/vnd.databricks.v1+cell": {
     "cellMetadata": {
      "byteLimit": 2048000,
      "rowLimit": 10000
     },
     "inputWidgets": {},
     "nuid": "304bc407-0295-4ff1-b712-f47e6367e488",
     "showTitle": false,
     "tableResultSettingsMap": {
      "0": {
       "dataGridStateBlob": "{\"version\":1,\"tableState\":{\"columnPinning\":{\"left\":[\"#row_number#\"],\"right\":[]},\"columnSizing\":{\"path\":306},\"columnVisibility\":{}},\"settings\":{\"columns\":{}},\"syncTimestamp\":1758304959538}",
       "filterBlob": null,
       "queryPlanFiltersBlob": null,
       "tableResultIndex": 0
      }
     },
     "title": ""
    }
   },
   "outputs": [],
   "source": [
    "# Carga de los secretos\n",
    "container_name = dbutils.secrets.get(scope=\"secretliga1\", key=\"adlscontenedor\")\n",
    "adls_account_name = dbutils.secrets.get(scope=\"secretliga1\", key=\"adlsstorage\")\n",
    "client_id = dbutils.secrets.get(scope=\"secretliga1\", key=\"clientid\")\n",
    "client_secret = dbutils.secrets.get(scope=\"secretliga1\", key=\"secretidt\")\n",
    "tenant_id = dbutils.secrets.get(scope=\"secretliga1\", key=\"tenantidt\")\n",
    "\n",
    "# Configuración de Spark para la autenticación\n",
    "spark.conf.set(f\"fs.azure.account.auth.type.{adls_account_name}.dfs.core.windows.net\", \"OAuth\")\n",
    "spark.conf.set(f\"fs.azure.account.oauth.provider.type.{adls_account_name}.dfs.core.windows.net\", \"org.apache.hadoop.fs.azurebfs.oauth2.ClientCredsTokenProvider\")\n",
    "spark.conf.set(f\"fs.azure.account.oauth2.client.id.{adls_account_name}.dfs.core.windows.net\", client_id)\n",
    "spark.conf.set(f\"fs.azure.account.oauth2.client.secret.{adls_account_name}.dfs.core.windows.net\", client_secret)\n",
    "spark.conf.set(f\"fs.azure.account.oauth2.client.endpoint.{adls_account_name}.dfs.core.windows.net\", f\"https://login.microsoftonline.com/{tenant_id}/oauth2/v2.0/token\")\n",
    "\n",
    "mount_point=f\"/mnt/{container_name}\"\n",
    "try:    mounts = [m.mountPoint for m in dbutils.fs.mounts()]\n",
    "except Exception as e:\n",
    "    mounts = []\n",
    "\n",
    "\n",
    "if mount_point in mounts:\n",
    "  print(f\"El montaje {mount_point} ya existe. Listando contenido:\")\n",
    "  display(dbutils.fs.ls(mount_point))\n",
    "  return container_name, adls_account_name\n",
    "else:\n",
    "  print(f\"Montando {mount_point}...\")\n",
    "  adls_direct_path = f\"abfss://{container_name}@{adls_account_name}.dfs.core.windows.net/\"\n",
    "  print(\"Contenido del contendor usando acceso directo:\")\n",
    "  display(dbutils.fs.ls(adls_direct_path))"
   ]
  }
 ],
 "metadata": {
  "application/vnd.databricks.v1+notebook": {
   "computePreferences": null,
   "dashboards": [],
   "environmentMetadata": {
    "base_environment": "",
    "environment_version": "3"
   },
   "inputWidgetPreferences": null,
   "language": "python",
   "notebookMetadata": {
    "pythonIndentUnit": 4
   },
   "notebookName": "mount_adls",
   "widgets": {}
  },
  "language_info": {
   "name": "python"
  }
 },
 "nbformat": 4,
 "nbformat_minor": 0
}
