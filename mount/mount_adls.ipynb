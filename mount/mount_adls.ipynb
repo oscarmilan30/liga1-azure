{
 "cells": [
  {
   "cell_type": "code",
   "execution_count": 0,
   "metadata": {
    "application/vnd.databricks.v1+cell": {
     "cellMetadata": {
      "byteLimit": 2048000,
      "rowLimit": 10000
     },
     "inputWidgets": {},
     "nuid": "e9525fb8-32cd-4f00-839b-757be86b5477",
     "showTitle": false,
     "tableResultSettingsMap": {
      "0": {
       "dataGridStateBlob": "{\"version\":1,\"tableState\":{\"columnPinning\":{\"left\":[\"#row_number#\"],\"right\":[]},\"columnSizing\":{\"#row_number#\":52},\"columnVisibility\":{}},\"settings\":{\"columns\":{}},\"syncTimestamp\":1758215111507}",
       "filterBlob": null,
       "queryPlanFiltersBlob": null,
       "tableResultIndex": 0
      }
     },
     "title": ""
    }
   },
   "outputs": [],
   "source": [
    "# Carga de los secretos\n",
    "container_name = dbutils.secrets.get(scope=\"secretliga1\", key=\"adlscontenedor\")\n",
    "adls_account_name = dbutils.secrets.get(scope=\"secretliga1\", key=\"storageaccountidt\")\n",
    "client_id = dbutils.secrets.get(scope=\"secretliga1\", key=\"clientid\")\n",
    "client_secret = dbutils.secrets.get(scope=\"secretliga1\", key=\"secretidt\")\n",
    "tenant_id = dbutils.secrets.get(scope=\"secretliga1\", key=\"tenantidt\")\n",
    "\n",
    "# Configuración de Spark para la autenticación\n",
    "spark.conf.set(f\"fs.azure.account.auth.type.{adls_account_name}.dfs.core.windows.net\", \"OAuth\")\n",
    "spark.conf.set(f\"fs.azure.account.oauth.provider.type.{adls_account_name}.dfs.core.windows.net\", \"org.apache.hadoop.fs.azurebfs.oauth2.ClientCredsTokenProvider\")\n",
    "spark.conf.set(f\"fs.azure.account.oauth2.client.id.{adls_account_name}.dfs.core.windows.net\", client_id)\n",
    "spark.conf.set(f\"fs.azure.account.oauth2.client.secret.{adls_account_name}.dfs.core.windows.net\", client_secret)\n",
    "spark.conf.set(f\"fs.azure.account.oauth2.client.endpoint.{adls_account_name}.dfs.core.windows.net\", f\"https://login.microsoftonline.com/{tenant_id}/oauth2/v2.0/token\")\n",
    "\n",
    "# Comando para montar el ADLS\n",
    "configs = {\"fs.azure.account.auth.type\": \"OAuth\",\n",
    "           \"fs.azure.account.oauth.provider.type\": \"org.apache.hadoop.fs.azurebfs.oauth2.ClientCredsTokenProvider\",\n",
    "            \"fs.azure.account.oauth2.client.id\": client_id,\n",
    "            \"fs.azure.account.oauth2.client.secret\": client_secret,\n",
    "            \"fs.azure.account.oauth2.client.endpoint\": f\"https://login.microsoftonline.com/{tenant_id}/oauth2/v2.0/token\"}\n",
    "\n",
    "try:\n",
    "  dbutils.fs.mount(\n",
    "         source = f\"abfss://{container_name}@{adls_account_name}.dfs.core.windows.net/\",\n",
    "          mount_point = \"/mnt/liga1\",\n",
    "          extra_configs = configs\n",
    "     )\n",
    "  print(\"ADLS montado exitosamente.\")\n",
    "except Exception as e:\n",
    "  if \"already mounted\" in str(e):\n",
    "    print(\"ADLS ya está montado.\")\n",
    "  else:\n",
    "    raise e\n",
    "\n",
    "# Muestra el contenido del punto de montaje para verificar\n",
    "display(dbutils.fs.ls(\"/mnt/liga1\"))"
   ]
  }
 ],
 "metadata": {
  "application/vnd.databricks.v1+notebook": {
   "computePreferences": null,
   "dashboards": [],
   "environmentMetadata": {
    "base_environment": "",
    "environment_version": "3"
   },
   "inputWidgetPreferences": null,
   "language": "python",
   "notebookMetadata": {
    "pythonIndentUnit": 4
   },
   "notebookName": "mount_adls",
   "widgets": {}
  },
  "language_info": {
   "name": "python"
  }
 },
 "nbformat": 4,
 "nbformat_minor": 0
}
