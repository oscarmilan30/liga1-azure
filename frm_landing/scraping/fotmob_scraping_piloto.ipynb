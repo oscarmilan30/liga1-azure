{
 "cells": [
  {
   "cell_type": "markdown",
   "metadata": {
    "application/vnd.databricks.v1+cell": {
     "cellMetadata": {},
     "inputWidgets": {},
     "nuid": "1ed45c49-6199-4920-b3a1-0fc89168bb06",
     "showTitle": false,
     "tableResultSettingsMap": {},
     "title": ""
    }
   },
   "source": [
    "## **Widgets y configuración inicial**"
   ]
  },
  {
   "cell_type": "code",
   "execution_count": 0,
   "metadata": {
    "application/vnd.databricks.v1+cell": {
     "cellMetadata": {},
     "inputWidgets": {},
     "nuid": "2ac61094-e990-4145-88c0-358217593dd6",
     "showTitle": false,
     "tableResultSettingsMap": {},
     "title": ""
    }
   },
   "outputs": [],
   "source": [
    "# Librerías principales\n",
    "from selenium import webdriver\n",
    "from selenium.webdriver.chrome.options import Options\n",
    "from selenium.webdriver.common.by import By\n",
    "from selenium.webdriver.support.ui import WebDriverWait\n",
    "from selenium.webdriver.support import expected_conditions as EC\n",
    "from selenium.webdriver.chrome.service import Service\n",
    "from webdriver_manager.chrome import ChromeDriverManager\n",
    "\n",
    "from bs4 import BeautifulSoup\n",
    "import pandas as pd\n",
    "import time\n",
    "import json\n",
    "import re\n",
    "from datetime import datetime\n",
    "from pyspark.sql import SparkSession\n",
    "\n",
    "# Configurar Spark\n",
    "spark = SparkSession.builder.appName(\"FotMobScraper\").getOrCreate()\n",
    "\n",
    "# Widgets de Databricks para pasar parámetros\n",
    "temporada = dbutils.widgets.get(\"temporada\")\n",
    "liga_id = dbutils.widgets.get(\"liga_id\")\n",
    "url_base = dbutils.widgets.get(\"url_base\")\n",
    "container = dbutils.widgets.get(\"container\")\n",
    "rutabase = dbutils.widgets.get(\"rutabase\")\n",
    "liga_nombre = dbutils.widgets.get(\"liga_nombre\")\n",
    "\n",
    "print(f\"Iniciando scraping: Temporada {temporada}, Liga {liga_nombre}\")"
   ]
  },
  {
   "cell_type": "markdown",
   "metadata": {
    "application/vnd.databricks.v1+cell": {
     "cellMetadata": {},
     "inputWidgets": {},
     "nuid": "3c19ca80-807c-4d18-8934-72da0f1ee736",
     "showTitle": false,
     "tableResultSettingsMap": {},
     "title": ""
    }
   },
   "source": [
    "## **Setup driver y helper para guardar JSON**"
   ]
  },
  {
   "cell_type": "code",
   "execution_count": 0,
   "metadata": {
    "application/vnd.databricks.v1+cell": {
     "cellMetadata": {
      "byteLimit": 2048000,
      "rowLimit": 10000
     },
     "inputWidgets": {},
     "nuid": "735cbdf4-68e4-4529-8115-01d11c24be99",
     "showTitle": false,
     "tableResultSettingsMap": {},
     "title": ""
    }
   },
   "outputs": [],
   "source": [
    "import sys\n",
    "sys.path.append('/Workspace/Users/oaaseguimiento@outlook.com/liga1-azure/util')\n",
    "import utils\n"
   ]
  },
  {
   "cell_type": "code",
   "execution_count": 0,
   "metadata": {
    "application/vnd.databricks.v1+cell": {
     "cellMetadata": {},
     "inputWidgets": {},
     "nuid": "386340f1-2889-400e-8c76-912126adba9d",
     "showTitle": false,
     "tableResultSettingsMap": {},
     "title": ""
    }
   },
   "outputs": [],
   "source": [
    "def setup_driver():\n",
    "    \"\"\"Configura Selenium ChromeDriver en modo headless\"\"\"\n",
    "    options = Options()\n",
    "    options.add_argument(\"--headless\")\n",
    "    options.add_argument(\"--disable-gpu\")\n",
    "    options.add_argument(\"--no-sandbox\")\n",
    "    options.add_argument(\"--disable-dev-shm-usage\")\n",
    "    options.add_argument(\"--window-size=1920x1080\")\n",
    "    options.add_argument(\"user-agent=Mozilla/5.0 (Windows NT 10.0; Win64; x64) AppleWebKit/537.36\")\n",
    "\n",
    "    service = Service(ChromeDriverManager().install())\n",
    "    return webdriver.Chrome(service=service, options=options)\n",
    "\n",
    "\n",
    "def guardar_json(data, ruta_completa):\n",
    "    \"\"\"Guarda un diccionario o lista como JSON en ADLS\"\"\"\n",
    "    try:\n",
    "        df = spark.createDataFrame([data])\n",
    "        df.write.mode(\"overwrite\").json(ruta_completa)\n",
    "        print(f\"Guardado: {ruta_completa}\")\n",
    "    except Exception as e:\n",
    "        print(f\"Error guardando JSON: {e}\")\n",
    "        raise e"
   ]
  },
  {
   "cell_type": "markdown",
   "metadata": {
    "application/vnd.databricks.v1+cell": {
     "cellMetadata": {},
     "inputWidgets": {},
     "nuid": "5e83d2ff-9244-4c1f-97eb-66da4ea71470",
     "showTitle": false,
     "tableResultSettingsMap": {},
     "title": ""
    }
   },
   "source": [
    "## **Scraping Liga Completa**"
   ]
  },
  {
   "cell_type": "code",
   "execution_count": 0,
   "metadata": {
    "application/vnd.databricks.v1+cell": {
     "cellMetadata": {},
     "inputWidgets": {},
     "nuid": "c3de0a33-f76c-4961-96d5-099514c7cb4a",
     "showTitle": false,
     "tableResultSettingsMap": {},
     "title": ""
    }
   },
   "outputs": [],
   "source": [
    "def scraping_liga_completa(temporada, liga_id, liga_nombre):\n",
    "    \"\"\"Scrapea la liga completa: clasificación, partidos, estadísticas, goleadores, asistentes y equipos\"\"\"\n",
    "    print(f\"Scrapeando liga temporada {temporada}...\")\n",
    "    \n",
    "    url = f\"{url_base}/leagues/{liga_id}/overview/{liga_nombre}?season={temporada}\"\n",
    "    datos = {\"temporada\": temporada, \"liga_id\": liga_id, \"liga_nombre\": liga_nombre}\n",
    "\n",
    "    with setup_driver() as driver:\n",
    "        driver.get(url)\n",
    "        time.sleep(5)\n",
    "        \n",
    "        datos[\"clasificacion\"] = extraer_clasificacion(driver)\n",
    "        datos[\"partidos\"] = extraer_partidos_con_stats(driver)\n",
    "        datos[\"estadisticas_generales\"] = extraer_estadisticas_generales(driver)\n",
    "        datos[\"goleadores\"] = extraer_goleadores_completo(driver)\n",
    "        datos[\"asistentes\"] = extraer_asistentes(driver)\n",
    "        datos[\"equipos_basicos\"] = extraer_equipos_con_ids(driver)\n",
    "\n",
    "    return datos\n",
    "\n",
    "\n",
    "def extraer_clasificacion(driver):\n",
    "    \"\"\"Extrae la tabla de clasificación de la liga\"\"\"\n",
    "    clasificacion = []\n",
    "    try:\n",
    "        WebDriverWait(driver, 15).until(\n",
    "            EC.presence_of_element_located((By.CSS_SELECTOR, \"div[class*='TableRowCSS']\"))\n",
    "        )\n",
    "        filas = driver.find_elements(By.CSS_SELECTOR, \"div[class*='TableRowCSS']\")\n",
    "        for fila in filas:\n",
    "            try:\n",
    "                posicion = fila.find_element(By.CSS_SELECTOR, \"span[class*='TableRank']\").text\n",
    "                equipo = fila.find_element(By.CSS_SELECTOR, \"span[class*='TeamName']\").text\n",
    "                pts = fila.find_element(By.CSS_SELECTOR, \"span[class*='TablePoints']\").text\n",
    "                stats = fila.find_elements(By.CSS_SELECTOR, \"span[class*='TableStat']\")\n",
    "                pj, pg, pe, pp, gf, gc, dg = [stat.text for stat in stats[:7]]\n",
    "\n",
    "                clasificacion.append({\n",
    "                    \"posicion\": posicion, \"equipo\": equipo, \"pj\": pj, \"pg\": pg,\n",
    "                    \"pe\": pe, \"pp\": pp, \"gf\": gf, \"gc\": gc, \"dg\": dg, \"pts\": pts\n",
    "                })\n",
    "            except:\n",
    "                continue\n",
    "    except Exception as e:\n",
    "        print(f\"Error clasificación: {e}\")\n",
    "    return clasificacion"
   ]
  },
  {
   "cell_type": "markdown",
   "metadata": {
    "application/vnd.databricks.v1+cell": {
     "cellMetadata": {},
     "inputWidgets": {},
     "nuid": "592e05e1-db08-47af-8c4f-0586a00b6268",
     "showTitle": false,
     "tableResultSettingsMap": {},
     "title": ""
    }
   },
   "source": [
    "## **Scraping partidos con stats**"
   ]
  },
  {
   "cell_type": "code",
   "execution_count": 0,
   "metadata": {
    "application/vnd.databricks.v1+cell": {
     "cellMetadata": {},
     "inputWidgets": {},
     "nuid": "83410a43-e613-44b0-bcfe-1eb5a7be3ce9",
     "showTitle": false,
     "tableResultSettingsMap": {},
     "title": ""
    }
   },
   "outputs": [],
   "source": [
    "def extraer_partidos_con_stats(driver):\n",
    "    \"\"\"Extrae los partidos y estadísticas de la temporada\"\"\"\n",
    "    partidos = []\n",
    "    try:\n",
    "        driver.find_element(By.CSS_SELECTOR, \"a[href*='partidos']\").click()\n",
    "        time.sleep(3)\n",
    "        page = 1\n",
    "        while True:\n",
    "            partidos_page = extraer_partidos_pagina(driver)\n",
    "            if not partidos_page:\n",
    "                break\n",
    "            partidos.extend(partidos_page)\n",
    "            \n",
    "            try:\n",
    "                next_btn = driver.find_element(By.CSS_SELECTOR, \"button[aria-label='Next page']\")\n",
    "                if not next_btn.is_enabled():\n",
    "                    break\n",
    "                next_btn.click()\n",
    "                time.sleep(3)\n",
    "                page += 1\n",
    "            except:\n",
    "                break\n",
    "    except Exception as e:\n",
    "        print(f\"Error partidos: {e}\")\n",
    "    return partidos\n",
    "\n",
    "\n",
    "def extraer_partidos_pagina(driver):\n",
    "    \"\"\"Extrae los partidos de la página actual\"\"\"\n",
    "    partidos = []\n",
    "    try:\n",
    "        partido_elements = driver.find_elements(By.CSS_SELECTOR, \"a[class*='MatchWrapper']\")\n",
    "        for partido in partido_elements:\n",
    "            try:\n",
    "                local = partido.find_element(By.CSS_SELECTOR, \"div[class*='HomeTeam'] span[class*='TeamName']\").text\n",
    "                visitante = partido.find_element(By.CSS_SELECTOR, \"div[class*='AwayTeam'] span[class*='TeamName']\").text\n",
    "                resultado = partido.find_element(By.CSS_SELECTOR, \"span[class*='MatchScore']\").text\n",
    "                fecha = partido.find_element(By.CSS_SELECTOR, \"span[class*='MatchTime']\").text\n",
    "\n",
    "                partido.click()\n",
    "                time.sleep(2)\n",
    "                stats = extraer_stats_partido(driver)\n",
    "\n",
    "                partidos.append({\n",
    "                    \"fecha\": fecha, \"local\": local, \"visitante\": visitante,\n",
    "                    \"resultado\": resultado, \"estadisticas\": stats\n",
    "                })\n",
    "\n",
    "                driver.back()\n",
    "                time.sleep(2)\n",
    "            except:\n",
    "                continue\n",
    "    except Exception as e:\n",
    "        print(f\"Error página partidos: {e}\")\n",
    "    return partidos\n",
    "\n",
    "\n",
    "def extraer_stats_partido(driver):\n",
    "    \"\"\"Extrae estadísticas específicas del partido\"\"\"\n",
    "    stats = {}\n",
    "    try:\n",
    "        driver.find_element(By.CSS_SELECTOR, \"a[href*='stats']\").click()\n",
    "        time.sleep(2)\n",
    "        stat_boxes = driver.find_elements(By.CSS_SELECTOR, \"div[class*='StatBox']\")\n",
    "        for box in stat_boxes:\n",
    "            titulo = box.find_element(By.CSS_SELECTOR, \"h3\").text.lower()\n",
    "            valores = box.find_elements(By.CSS_SELECTOR, \"span[class*='StatValue']\")\n",
    "            if len(valores) >= 2:\n",
    "                if 'posesión' in titulo:\n",
    "                    stats['posesion'] = {'local': valores[0].text, 'visitante': valores[1].text}\n",
    "                elif 'tiros' in titulo:\n",
    "                    stats['tiros'] = {'local': valores[0].text, 'visitante': valores[1].text}\n",
    "                elif 'tarjetas amarillas' in titulo:\n",
    "                    stats['tarjetas_amarillas'] = {'local': valores[0].text, 'visitante': valores[1].text}\n",
    "                elif 'tarjetas rojas' in titulo:\n",
    "                    stats['tarjetas_rojas'] = {'local': valores[0].text, 'visitante': valores[1].text}\n",
    "                elif 'faltas' in titulo:\n",
    "                    stats['faltas'] = {'local': valores[0].text, 'visitante': valores[1].text}\n",
    "                elif 'corners' in titulo:\n",
    "                    stats['corners'] = {'local': valores[0].text, 'visitante': valores[1].text}\n",
    "    except Exception as e:\n",
    "        print(f\"Error stats partido: {e}\")\n",
    "    return stats"
   ]
  },
  {
   "cell_type": "markdown",
   "metadata": {
    "application/vnd.databricks.v1+cell": {
     "cellMetadata": {},
     "inputWidgets": {},
     "nuid": "fc24abfa-f965-49d8-87b5-073227b96569",
     "showTitle": false,
     "tableResultSettingsMap": {},
     "title": ""
    }
   },
   "source": [
    "## **Scraping Equipos y Plantilla**"
   ]
  },
  {
   "cell_type": "code",
   "execution_count": 0,
   "metadata": {
    "application/vnd.databricks.v1+cell": {
     "cellMetadata": {},
     "inputWidgets": {},
     "nuid": "f17b07a4-f7fe-4935-ac7e-167140279414",
     "showTitle": false,
     "tableResultSettingsMap": {},
     "title": ""
    }
   },
   "outputs": [],
   "source": [
    "def extraer_equipos_con_ids(driver):\n",
    "    \"\"\"Extrae los equipos básicos con sus IDs\"\"\"\n",
    "    equipos = []\n",
    "    try:\n",
    "        filas_equipos = driver.find_elements(By.CSS_SELECTOR, \"div[class*='TableRowCSS']\")\n",
    "        for fila in filas_equipos:\n",
    "            try:\n",
    "                link_equipo = fila.find_element(By.CSS_SELECTOR, \"a[href*='/teams/']\")\n",
    "                href = link_equipo.get_attribute(\"href\")\n",
    "                equipo_id = href.split('/')[5]\n",
    "                nombre_equipo = fila.find_element(By.CSS_SELECTOR, \"span[class*='TeamName']\").text\n",
    "                equipos.append({\"equipo_id\": equipo_id, \"nombre\": nombre_equipo})\n",
    "            except:\n",
    "                continue\n",
    "    except Exception as e:\n",
    "        print(f\"Error equipos: {e}\")\n",
    "    return equipos\n",
    "\n",
    "\n",
    "def scraping_equipos_completo(equipos_basicos, temporada):\n",
    "    \"\"\"Recorre todos los equipos y scrapea plantilla, partidos y estadísticas\"\"\"\n",
    "    print(f\"Scrapeando {len(equipos_basicos)} equipos...\")\n",
    "    datos_equipos = {\"temporada\": temporada, \"equipos\": []}\n",
    "    for equipo in equipos_basicos:\n",
    "        try:\n",
    "            equipo_data = scraping_equipo_individual(equipo[\"equipo_id\"], equipo[\"nombre\"], temporada)\n",
    "            datos_equipos[\"equipos\"].append(equipo_data)\n",
    "            time.sleep(2)\n",
    "        except Exception as e:\n",
    "            print(f\"Error {equipo['nombre']}: {e}\")\n",
    "            continue\n",
    "    return datos_equipos\n",
    "\n",
    "\n",
    "def scraping_equipo_individual(equipo_id, equipo_nombre, temporada):\n",
    "    \"\"\"Scrapea un equipo individual: plantilla, estadísticas y entrenador\"\"\"\n",
    "    url = f\"{url_base}/teams/{equipo_id}/overview/{equipo_nombre}?season={temporada}\"\n",
    "    with setup_driver() as driver:\n",
    "        driver.get(url)\n",
    "        time.sleep(4)\n",
    "        return {\n",
    "            \"equipo_id\": equipo_id,\n",
    "            \"nombre\": equipo_nombre,\n",
    "            \"plantilla\": extraer_plantilla_completa(driver),\n",
    "            \"estadisticas_equipo\": extraer_estadisticas_equipo(driver),\n",
    "            \"partidos_equipo\": extraer_partidos_equipo(driver),\n",
    "            \"entrenador\": extraer_entrenador(driver)\n",
    "        }"
   ]
  },
  {
   "cell_type": "markdown",
   "metadata": {
    "application/vnd.databricks.v1+cell": {
     "cellMetadata": {},
     "inputWidgets": {},
     "nuid": "5001a513-432d-4392-9ad4-fc32ec3f6099",
     "showTitle": false,
     "tableResultSettingsMap": {},
     "title": ""
    }
   },
   "source": [
    "## **Plantilla, goleadores, asistentes, estadísticas y entrenador**"
   ]
  },
  {
   "cell_type": "code",
   "execution_count": 0,
   "metadata": {
    "application/vnd.databricks.v1+cell": {
     "cellMetadata": {},
     "inputWidgets": {},
     "nuid": "4e333d48-ab80-4ce1-95b3-8d0edcc3e3d5",
     "showTitle": false,
     "tableResultSettingsMap": {},
     "title": ""
    }
   },
   "outputs": [],
   "source": [
    "def extraer_plantilla_completa(driver):\n",
    "    \"\"\"Extrae la plantilla completa de un equipo\"\"\"\n",
    "    plantilla = []\n",
    "    try:\n",
    "        jugadores = driver.find_elements(By.CSS_SELECTOR, \"div[class*='PlayerRow']\")\n",
    "        for jugador in jugadores:\n",
    "            try:\n",
    "                try:\n",
    "                    link_jugador = jugador.find_element(By.CSS_SELECTOR, \"a[href*='/players/']\")\n",
    "                    jugador_id = link_jugador.get_attribute(\"href\").split('/')[5]\n",
    "                except:\n",
    "                    jugador_id = None\n",
    "\n",
    "                nombre = jugador.find_element(By.CSS_SELECTOR, \"span[class*='PlayerName']\").text.strip()\n",
    "                posicion = jugador.find_element(By.CSS_SELECTOR, \"div[class*='Position']\").text.strip()\n",
    "\n",
    "                try:\n",
    "                    bandera = jugador.find_element(By.CSS_SELECTOR, \"img[class*='Flag']\")\n",
    "                    nacionalidad = bandera.get_attribute(\"alt\")\n",
    "                except:\n",
    "                    nacionalidad = \"Desconocida\"\n",
    "\n",
    "                try:\n",
    "                    edad = jugador.find_element(By.CSS_SELECTOR, \"div[class*='Age']\").text.strip()\n",
    "                except:\n",
    "                    edad = \"N/A\"\n",
    "\n",
    "                plantilla.append({\n",
    "                    \"jugador_id\": jugador_id, \"nombre\": nombre,\n",
    "                    \"posicion\": posicion, \"nacionalidad\": nacionalidad, \"edad\": edad\n",
    "                })\n",
    "            except:\n",
    "                continue\n",
    "    except Exception as e:\n",
    "        print(f\"Error plantilla: {e}\")\n",
    "    return plantilla\n",
    "\n",
    "\n",
    "def extraer_entrenador(driver):\n",
    "    \"\"\"Extrae información del entrenador\"\"\"\n",
    "    try:\n",
    "        info_section = driver.find_element(By.CSS_SELECTOR, \"div[class*='TeamHeader']\")\n",
    "        entrenador_element = info_section.find_element(By.XPATH, \".//*[contains(text(), 'Entrenador')]/following-sibling::*\")\n",
    "        nombre_entrenador = entrenador_element.text.strip()\n",
    "\n",
    "        try:\n",
    "            bandera_element = entrenador_element.find_element(By.XPATH, \".//preceding-sibling::img[contains(@class, 'Flag')]\")\n",
    "            nacionalidad = bandera_element.get_attribute(\"alt\")\n",
    "        except:\n",
    "            nacionalidad = \"Desconocida\"\n",
    "\n",
    "        try:\n",
    "            link_entrenador = entrenador_element.find_element(By.XPATH, \".//a[contains(@href, '/players/')]\")\n",
    "            entrenador_id = link_entrenador.get_attribute(\"href\").split('/')[5]\n",
    "        except:\n",
    "            entrenador_id = None\n",
    "\n",
    "        return {\n",
    "            \"entrenador_id\": entrenador_id,\n",
    "            \"nombre\": nombre_entrenador,\n",
    "            \"nacionalidad\": nacionalidad\n",
    "        }\n",
    "    except Exception as e:\n",
    "        print(f\"Error entrenador: {e}\")\n",
    "        return {\"entrenador_id\": None, \"nombre\": \"Desconocido\", \"nacionalidad\": \"Desconocida\"}"
   ]
  },
  {
   "cell_type": "markdown",
   "metadata": {
    "application/vnd.databricks.v1+cell": {
     "cellMetadata": {},
     "inputWidgets": {},
     "nuid": "5d81e8b2-9c25-4aca-a1d8-38c47bdb1655",
     "showTitle": false,
     "tableResultSettingsMap": {},
     "title": ""
    }
   },
   "source": [
    "## **Scraping Goleadores, Asistentes y Estadísticas Generales**"
   ]
  },
  {
   "cell_type": "code",
   "execution_count": 0,
   "metadata": {
    "application/vnd.databricks.v1+cell": {
     "cellMetadata": {},
     "inputWidgets": {},
     "nuid": "e1030799-419e-4bba-a806-9b1b7e7a417a",
     "showTitle": false,
     "tableResultSettingsMap": {},
     "title": ""
    }
   },
   "outputs": [],
   "source": [
    "def extraer_goleadores_completo(driver):\n",
    "    \"\"\"Extrae la tabla de goleadores\"\"\"\n",
    "    goleadores = []\n",
    "    try:\n",
    "        driver.find_element(By.CSS_SELECTOR, \"a[href*='estadisticas']\").click()\n",
    "        time.sleep(3)\n",
    "        secciones = driver.find_elements(By.CSS_SELECTOR, \"div[class*='StatsTable']\")\n",
    "        for seccion in secciones:\n",
    "            titulo = seccion.find_element(By.CSS_SELECTOR, \"h3\").text.lower()\n",
    "            if 'goleadores' in titulo:\n",
    "                filas = seccion.find_elements(By.CSS_SELECTOR, \"tr[class*='TableRow']\")[1:]\n",
    "                for fila in filas:\n",
    "                    try:\n",
    "                        celdas = fila.find_elements(By.TAG_NAME, \"td\")\n",
    "                        try:\n",
    "                            link_jugador = celdas[1].find_element(By.CSS_SELECTOR, \"a[href*='/players/']\")\n",
    "                            jugador_id = link_jugador.get_attribute(\"href\").split('/')[5]\n",
    "                        except:\n",
    "                            jugador_id = None\n",
    "                        goleadores.append({\n",
    "                            \"jugador_id\": jugador_id,\n",
    "                            \"nombre\": celdas[1].text.strip(),\n",
    "                            \"equipo\": celdas[2].text.strip(),\n",
    "                            \"goles\": celdas[3].text.strip()\n",
    "                        })\n",
    "                    except:\n",
    "                        continue\n",
    "    except Exception as e:\n",
    "        print(f\"Error goleadores: {e}\")\n",
    "    return goleadores\n",
    "\n",
    "\n",
    "def extraer_asistentes(driver):\n",
    "    \"\"\"Extrae la tabla de asistencias\"\"\"\n",
    "    asistentes = []\n",
    "    try:\n",
    "        secciones = driver.find_elements(By.CSS_SELECTOR, \"div[class*='StatsTable']\")\n",
    "        for seccion in secciones:\n",
    "            titulo = seccion.find_element(By.CSS_SELECTOR, \"h3\").text.lower()\n",
    "            if 'asistencias' in titulo:\n",
    "                filas = seccion.find_elements(By.CSS_SELECTOR, \"tr[class*='TableRow']\")[1:]\n",
    "                for fila in filas:\n",
    "                    try:\n",
    "                        celdas = fila.find_elements(By.TAG_NAME, \"td\")\n",
    "                        try:\n",
    "                            link_jugador = celdas[1].find_element(By.CSS_SELECTOR, \"a[href*='/players/']\")\n",
    "                            jugador_id = link_jugador.get_attribute(\"href\").split('/')[5]\n",
    "                        except:\n",
    "                            jugador_id = None\n",
    "                        asistentes.append({\n",
    "                            \"jugador_id\": jugador_id,\n",
    "                            \"nombre\": celdas[1].text.strip(),\n",
    "                            \"equipo\": celdas[2].text.strip(),\n",
    "                            \"asistencias\": celdas[3].text.strip()\n",
    "                        })\n",
    "                    except:\n",
    "                        continue\n",
    "    except Exception as e:\n",
    "        print(f\"Error asistentes: {e}\")\n",
    "    return asistentes\n",
    "\n",
    "\n",
    "def extraer_estadisticas_generales(driver):\n",
    "    \"\"\"Extrae estadísticas generales de la liga\"\"\"\n",
    "    stats = {}\n",
    "    try:\n",
    "        secciones = driver.find_elements(By.CSS_SELECTOR, \"div[class*='StatBox']\")\n",
    "        for seccion in secciones:\n",
    "            try:\n",
    "                titulo = seccion.find_element(By.CSS_SELECTOR, \"h3\").text.lower()\n",
    "                valor = seccion.find_element(By.CSS_SELECTOR, \"span[class*='StatValue']\").text\n",
    "                if 'goles' in titulo:\n",
    "                    stats['goles_totales'] = valor\n",
    "                elif 'posesión' in titulo:\n",
    "                    stats['posesion_promedio'] = valor\n",
    "                elif 'tarjetas amarillas' in titulo:\n",
    "                    stats['tarjetas_amarillas_totales'] = valor\n",
    "                elif 'tarjetas rojas' in titulo:\n",
    "                    stats['tarjetas_rojas_totales'] = valor\n",
    "                elif 'faltas' in titulo:\n",
    "                    stats['faltas_totales'] = valor\n",
    "            except:\n",
    "                continue\n",
    "    except Exception as e:\n",
    "        print(f\"Error estadísticas generales: {e}\")\n",
    "    return stats"
   ]
  },
  {
   "cell_type": "markdown",
   "metadata": {
    "application/vnd.databricks.v1+cell": {
     "cellMetadata": {},
     "inputWidgets": {},
     "nuid": "0ae42a62-aedf-4195-a9df-80806128836c",
     "showTitle": false,
     "tableResultSettingsMap": {},
     "title": ""
    }
   },
   "source": [
    "## **Función Principal y Ejecución**"
   ]
  },
  {
   "cell_type": "code",
   "execution_count": 0,
   "metadata": {
    "application/vnd.databricks.v1+cell": {
     "cellMetadata": {},
     "inputWidgets": {},
     "nuid": "8acd8160-8f97-4f0a-aeb7-e7b2a2b01a07",
     "showTitle": false,
     "tableResultSettingsMap": {},
     "title": ""
    }
   },
   "outputs": [],
   "source": [
    "def main():\n",
    "    \"\"\"Función principal que ejecuta todo el scraping de la liga y equipos\"\"\"\n",
    "    print(f\"Iniciando scraping temporada {temporada}, liga {liga_nombre}\")\n",
    "\n",
    "    try:\n",
    "        # Scraping de liga\n",
    "        datos_liga = scraping_liga_completa(temporada, liga_id, liga_nombre)\n",
    "        ruta_liga = f\"abfss://landing@adlsfotmob.dfs.core.windows.net{rutabase}/{temporada}/liga_completa.json\"\n",
    "        guardar_json(datos_liga, ruta_liga)\n",
    "        print(f\"Liga completada: {len(datos_liga.get('clasificacion', []))} equipos\")\n",
    "\n",
    "        # Scraping de equipos\n",
    "        equipos_basicos = datos_liga.get(\"equipos_basicos\", [])\n",
    "        if equipos_basicos:\n",
    "            datos_equipos = scraping_equipos_completo(equipos_basicos, temporada)\n",
    "            ruta_equipos = f\"abfss://landing@adlsfotmob.dfs.core.windows.net{rutabase}/{temporada}/equipos_completo.json\"\n",
    "            guardar_json(datos_equipos, ruta_equipos)\n",
    "            print(f\"Equipos completados: {len(datos_equipos.get('equipos', []))} equipos\")\n",
    "\n",
    "        print(f\"Scraping temporada {temporada} COMPLETADO\")\n",
    "\n",
    "    except Exception as e:\n",
    "        print(f\"ERROR en scraping: {e}\")\n",
    "        raise e\n",
    "\n",
    "\n",
    "# Ejecutar\n",
    "if __name__ == \"__main__\":\n",
    "    main()"
   ]
  }
 ],
 "metadata": {
  "application/vnd.databricks.v1+notebook": {
   "computePreferences": null,
   "dashboards": [],
   "environmentMetadata": {
    "base_environment": "",
    "environment_version": "3"
   },
   "inputWidgetPreferences": null,
   "language": "python",
   "notebookMetadata": {
    "pythonIndentUnit": 4
   },
   "notebookName": "fotmob_scraping_piloto",
   "widgets": {}
  },
  "language_info": {
   "name": "python"
  }
 },
 "nbformat": 4,
 "nbformat_minor": 0
}
